{
  "cells": [
    {
      "cell_type": "code",
      "execution_count": 1,
      "metadata": {
        "colab": {
          "base_uri": "https://localhost:8080/"
        },
        "id": "vDuxy6i5HoY_",
        "outputId": "8f623c75-a069-4c5e-92ac-fe39270c268e"
      },
      "outputs": [
        {
          "name": "stderr",
          "output_type": "stream",
          "text": [
            "[nltk_data] Downloading package stopwords to\n",
            "[nltk_data]     C:\\Users\\ASUS\\AppData\\Roaming\\nltk_data...\n",
            "[nltk_data]   Package stopwords is already up-to-date!\n",
            "[nltk_data] Downloading package punkt to\n",
            "[nltk_data]     C:\\Users\\ASUS\\AppData\\Roaming\\nltk_data...\n",
            "[nltk_data]   Package punkt is already up-to-date!\n"
          ]
        },
        {
          "data": {
            "text/plain": [
              "True"
            ]
          },
          "execution_count": 1,
          "metadata": {},
          "output_type": "execute_result"
        }
      ],
      "source": [
        "import pandas as pd\n",
        "from sklearn.feature_extraction.text import TfidfVectorizer\n",
        "from sklearn.metrics.pairwise import cosine_similarity\n",
        "from nltk.tokenize import word_tokenize\n",
        "from nltk.stem import PorterStemmer\n",
        "from nltk.corpus import stopwords\n",
        "\n",
        "import nltk\n",
        "nltk.download('stopwords')\n",
        "nltk.download('punkt')"
      ]
    },
    {
      "cell_type": "code",
      "execution_count": 2,
      "metadata": {
        "id": "Basem39sNj0U"
      },
      "outputs": [],
      "source": [
        "file_path = \"datasets_bukuPengembanganDiri.csv\"\n",
        "df = pd.read_csv(file_path)"
      ]
    },
    {
      "cell_type": "code",
      "execution_count": 3,
      "metadata": {
        "id": "q8_dXNjTI426"
      },
      "outputs": [],
      "source": [
        "# Inisialisasi stop words bahasa Indonesia\n",
        "stop_words = set(stopwords.words('indonesian'))\n",
        "\n",
        "# Salin DataFrame untuk menyimpan sinopsis asli\n",
        "df_original = df.copy()\n",
        "\n",
        "# Proses teks\n",
        "ps = PorterStemmer()\n",
        "\n",
        "def preprocess_text(text):\n",
        "    # Tokenisasi dan stemming menggunakan NLTK\n",
        "    tokens = word_tokenize(text)\n",
        "    stemmed_tokens = [ps.stem(token) for token in tokens if token.lower() not in stop_words]\n",
        "    return ' '.join(stemmed_tokens)\n",
        "\n",
        "# Preprocessing sinopsis\n",
        "df['sinopsis'] = df['sinopsis'].apply(preprocess_text)\n",
        "\n",
        "# TF-IDF\n",
        "vectorizer = TfidfVectorizer()\n",
        "tfidf_matrix = vectorizer.fit_transform(df['sinopsis'])\n",
        "\n",
        "# Cosine Similarity\n",
        "cosine_sim = cosine_similarity(tfidf_matrix, tfidf_matrix)"
      ]
    },
    {
      "cell_type": "code",
      "execution_count": 4,
      "metadata": {
        "id": "hy328qZ-I6fJ"
      },
      "outputs": [],
      "source": [
        "# Fungsi pencarian\n",
        "def search_books(query, df, vectorizer, cosine_sim):\n",
        "    # Preprocessing query\n",
        "    query = preprocess_text(query)\n",
        "\n",
        "    # TF-IDF untuk query\n",
        "    query_vector = vectorizer.transform([query])\n",
        "\n",
        "    # Cosine similarity antara query dan dokumen\n",
        "    similarities = cosine_similarity(query_vector, tfidf_matrix).flatten()\n",
        "\n",
        "    # Indexing, ranking, dan filter similarity > 0\n",
        "    results = pd.DataFrame({'judul': df['judul'], 'penulis': df['penulis'], 'sinopsis': df_original['sinopsis'], 'similarity': similarities})\n",
        "    results = results[results['similarity'] > 0]\n",
        "\n",
        "    if results.empty:\n",
        "        return \"Tidak ada hasil yang ditemukan untuk '{}'\".format(query)\n",
        "\n",
        "    results = results.sort_values(by='similarity', ascending=False)\n",
        "\n",
        "    return results"
      ]
    },
    {
      "cell_type": "code",
      "execution_count": 6,
      "metadata": {
        "colab": {
          "base_uri": "https://localhost:8080/"
        },
        "id": "MuJ9d_uvL5h-",
        "outputId": "7459c89c-6c8c-45c1-8ca4-0376411fc914"
      },
      "outputs": [
        {
          "name": "stdout",
          "output_type": "stream",
          "text": [
            "Hasil pencarian untuk ' berbicara di depan umum '\n",
            "                                                judul      penulis  \\\n",
            "1                              Bicara Itu Ada Seninya  Oh Su Hyang   \n",
            "14  Seni Berbicara kepada Siapa Saja, Kapan Saja, ...   Larry King   \n",
            "10                            Segala - galanya Ambyar  Mark Manson   \n",
            "\n",
            "                                             sinopsis  \n",
            "1   TAHUKAH ANDA BAHWA BERBICARA ITU ADA SENINYA?\\...  \n",
            "14  “Salah satu hal yang saya pelajari adalah tida...  \n",
            "10  Dari penulis buku laris dunia Sebuah Seni untu...  \n"
          ]
        }
      ],
      "source": [
        "# Pencarian\n",
        "\n",
        "query = \"berbicara di depan umum\" # <======== Masukan kata kunci di sini\n",
        "search_results = search_books(query, df, vectorizer, cosine_sim)\n",
        "\n",
        "if isinstance(search_results, str):\n",
        "    print(search_results)\n",
        "else:\n",
        "    print(\"Hasil pencarian untuk '\", query, \"'\")\n",
        "    print(search_results[['judul', 'penulis', 'sinopsis']])"
      ]
    }
  ],
  "metadata": {
    "colab": {
      "provenance": []
    },
    "kernelspec": {
      "display_name": "Python 3",
      "name": "python3"
    },
    "language_info": {
      "codemirror_mode": {
        "name": "ipython",
        "version": 3
      },
      "file_extension": ".py",
      "mimetype": "text/x-python",
      "name": "python",
      "nbconvert_exporter": "python",
      "pygments_lexer": "ipython3",
      "version": "3.8.10"
    }
  },
  "nbformat": 4,
  "nbformat_minor": 0
}
